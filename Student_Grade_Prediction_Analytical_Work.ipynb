{
 "cells": [
  {
   "cell_type": "markdown",
   "metadata": {},
   "source": [
    "# ========================================"
   ]
  },
  {
   "cell_type": "markdown",
   "metadata": {},
   "source": [
    "# Import Dependencies"
   ]
  },
  {
   "cell_type": "markdown",
   "metadata": {},
   "source": [
    "# ========================================"
   ]
  },
  {
   "cell_type": "code",
   "execution_count": 1,
   "metadata": {},
   "outputs": [],
   "source": [
    "##################################################################################################\n",
    "#                            Miscellaneous Operating System Interfaces\n",
    "##################################################################################################\n",
    "import os\n",
    "##################################################################################################\n",
    "#                       Data Structure and Manipulation (Arrays & Dataframes)\n",
    "##################################################################################################\n",
    "import numpy as np\n",
    "import pandas as pd\n",
    "##################################################################################################\n",
    "#                                     Data Visualization\n",
    "##################################################################################################\n",
    "import seaborn as sns\n",
    "# from matplotlib import cm\n",
    "import matplotlib.pyplot as plt\n",
    "##################################################################################################\n",
    "#                                    Statistics Libraries\n",
    "##################################################################################################\n",
    "import statistics\n",
    "import scipy"
   ]
  },
  {
   "cell_type": "markdown",
   "metadata": {},
   "source": [
    "# ========================================"
   ]
  },
  {
   "cell_type": "markdown",
   "metadata": {},
   "source": [
    "# File Paths Used in the Notebook"
   ]
  },
  {
   "cell_type": "markdown",
   "metadata": {},
   "source": [
    "# ========================================"
   ]
  },
  {
   "cell_type": "code",
   "execution_count": 2,
   "metadata": {},
   "outputs": [
    {
     "data": {
      "text/plain": [
       "'Resources/Data'"
      ]
     },
     "execution_count": 2,
     "metadata": {},
     "output_type": "execute_result"
    }
   ],
   "source": [
    "# Format the Input File Path for the Appropriate Operating System\n",
    "Resources_file_path = os.path.join(\"Resources\", \"Data\")\n",
    "Resources_file_path"
   ]
  },
  {
   "cell_type": "markdown",
   "metadata": {},
   "source": [
    "# ========================================"
   ]
  },
  {
   "cell_type": "markdown",
   "metadata": {},
   "source": [
    "# Step 1 - Import Student Data"
   ]
  },
  {
   "cell_type": "markdown",
   "metadata": {},
   "source": [
    "# ========================================"
   ]
  },
  {
   "cell_type": "code",
   "execution_count": 3,
   "metadata": {},
   "outputs": [],
   "source": [
    "# CSV File Name\n",
    "student_grade_prediction_csv_file_name = \"Student_Grade_Prediction_Data.csv\""
   ]
  },
  {
   "cell_type": "code",
   "execution_count": 4,
   "metadata": {},
   "outputs": [
    {
     "data": {
      "text/plain": [
       "'Resources/Data/Student_Grade_Prediction_Data.csv'"
      ]
     },
     "execution_count": 4,
     "metadata": {},
     "output_type": "execute_result"
    }
   ],
   "source": [
    "# Combine the File Path and the File Name for the Appropriate Operating System\n",
    "student_grade_prediction_csv_file_path = os.path.join(Resources_file_path, student_grade_prediction_csv_file_name)\n",
    "student_grade_prediction_csv_file_path"
   ]
  },
  {
   "cell_type": "code",
   "execution_count": 5,
   "metadata": {},
   "outputs": [],
   "source": [
    "# - Show All Columns/Rows of a Pandas Dataframe\n",
    "#     - https://towardsdatascience.com/how-to-show-all-columns-rows-of-a-pandas-dataframe-c49d4507fcf\n",
    "#     - https://pandas.pydata.org/pandas-docs/stable/user_guide/options.html\n",
    "\n",
    "pd.set_option('display.max_columns', None)"
   ]
  },
  {
   "cell_type": "code",
   "execution_count": 6,
   "metadata": {
    "scrolled": false
   },
   "outputs": [
    {
     "data": {
      "text/html": [
       "<div>\n",
       "<style scoped>\n",
       "    .dataframe tbody tr th:only-of-type {\n",
       "        vertical-align: middle;\n",
       "    }\n",
       "\n",
       "    .dataframe tbody tr th {\n",
       "        vertical-align: top;\n",
       "    }\n",
       "\n",
       "    .dataframe thead th {\n",
       "        text-align: right;\n",
       "    }\n",
       "</style>\n",
       "<table border=\"1\" class=\"dataframe\">\n",
       "  <thead>\n",
       "    <tr style=\"text-align: right;\">\n",
       "      <th></th>\n",
       "      <th>school</th>\n",
       "      <th>sex</th>\n",
       "      <th>age</th>\n",
       "      <th>address</th>\n",
       "      <th>famsize</th>\n",
       "      <th>Pstatus</th>\n",
       "      <th>Medu</th>\n",
       "      <th>Fedu</th>\n",
       "      <th>Mjob</th>\n",
       "      <th>Fjob</th>\n",
       "      <th>reason</th>\n",
       "      <th>guardian</th>\n",
       "      <th>traveltime</th>\n",
       "      <th>studytime</th>\n",
       "      <th>failures</th>\n",
       "      <th>schoolsup</th>\n",
       "      <th>famsup</th>\n",
       "      <th>paid</th>\n",
       "      <th>activities</th>\n",
       "      <th>nursery</th>\n",
       "      <th>higher</th>\n",
       "      <th>internet</th>\n",
       "      <th>romantic</th>\n",
       "      <th>famrel</th>\n",
       "      <th>freetime</th>\n",
       "      <th>goout</th>\n",
       "      <th>Dalc</th>\n",
       "      <th>Walc</th>\n",
       "      <th>health</th>\n",
       "      <th>absences</th>\n",
       "      <th>G1</th>\n",
       "      <th>G2</th>\n",
       "      <th>G3</th>\n",
       "    </tr>\n",
       "  </thead>\n",
       "  <tbody>\n",
       "    <tr>\n",
       "      <th>0</th>\n",
       "      <td>GP</td>\n",
       "      <td>F</td>\n",
       "      <td>18</td>\n",
       "      <td>U</td>\n",
       "      <td>GT3</td>\n",
       "      <td>A</td>\n",
       "      <td>4</td>\n",
       "      <td>4</td>\n",
       "      <td>at_home</td>\n",
       "      <td>teacher</td>\n",
       "      <td>course</td>\n",
       "      <td>mother</td>\n",
       "      <td>2</td>\n",
       "      <td>2</td>\n",
       "      <td>0</td>\n",
       "      <td>yes</td>\n",
       "      <td>no</td>\n",
       "      <td>no</td>\n",
       "      <td>no</td>\n",
       "      <td>yes</td>\n",
       "      <td>yes</td>\n",
       "      <td>no</td>\n",
       "      <td>no</td>\n",
       "      <td>4</td>\n",
       "      <td>3</td>\n",
       "      <td>4</td>\n",
       "      <td>1</td>\n",
       "      <td>1</td>\n",
       "      <td>3</td>\n",
       "      <td>6</td>\n",
       "      <td>5</td>\n",
       "      <td>6</td>\n",
       "      <td>6</td>\n",
       "    </tr>\n",
       "    <tr>\n",
       "      <th>1</th>\n",
       "      <td>GP</td>\n",
       "      <td>F</td>\n",
       "      <td>17</td>\n",
       "      <td>U</td>\n",
       "      <td>GT3</td>\n",
       "      <td>T</td>\n",
       "      <td>1</td>\n",
       "      <td>1</td>\n",
       "      <td>at_home</td>\n",
       "      <td>other</td>\n",
       "      <td>course</td>\n",
       "      <td>father</td>\n",
       "      <td>1</td>\n",
       "      <td>2</td>\n",
       "      <td>0</td>\n",
       "      <td>no</td>\n",
       "      <td>yes</td>\n",
       "      <td>no</td>\n",
       "      <td>no</td>\n",
       "      <td>no</td>\n",
       "      <td>yes</td>\n",
       "      <td>yes</td>\n",
       "      <td>no</td>\n",
       "      <td>5</td>\n",
       "      <td>3</td>\n",
       "      <td>3</td>\n",
       "      <td>1</td>\n",
       "      <td>1</td>\n",
       "      <td>3</td>\n",
       "      <td>4</td>\n",
       "      <td>5</td>\n",
       "      <td>5</td>\n",
       "      <td>6</td>\n",
       "    </tr>\n",
       "    <tr>\n",
       "      <th>2</th>\n",
       "      <td>GP</td>\n",
       "      <td>F</td>\n",
       "      <td>15</td>\n",
       "      <td>U</td>\n",
       "      <td>LE3</td>\n",
       "      <td>T</td>\n",
       "      <td>1</td>\n",
       "      <td>1</td>\n",
       "      <td>at_home</td>\n",
       "      <td>other</td>\n",
       "      <td>other</td>\n",
       "      <td>mother</td>\n",
       "      <td>1</td>\n",
       "      <td>2</td>\n",
       "      <td>3</td>\n",
       "      <td>yes</td>\n",
       "      <td>no</td>\n",
       "      <td>yes</td>\n",
       "      <td>no</td>\n",
       "      <td>yes</td>\n",
       "      <td>yes</td>\n",
       "      <td>yes</td>\n",
       "      <td>no</td>\n",
       "      <td>4</td>\n",
       "      <td>3</td>\n",
       "      <td>2</td>\n",
       "      <td>2</td>\n",
       "      <td>3</td>\n",
       "      <td>3</td>\n",
       "      <td>10</td>\n",
       "      <td>7</td>\n",
       "      <td>8</td>\n",
       "      <td>10</td>\n",
       "    </tr>\n",
       "    <tr>\n",
       "      <th>3</th>\n",
       "      <td>GP</td>\n",
       "      <td>F</td>\n",
       "      <td>15</td>\n",
       "      <td>U</td>\n",
       "      <td>GT3</td>\n",
       "      <td>T</td>\n",
       "      <td>4</td>\n",
       "      <td>2</td>\n",
       "      <td>health</td>\n",
       "      <td>services</td>\n",
       "      <td>home</td>\n",
       "      <td>mother</td>\n",
       "      <td>1</td>\n",
       "      <td>3</td>\n",
       "      <td>0</td>\n",
       "      <td>no</td>\n",
       "      <td>yes</td>\n",
       "      <td>yes</td>\n",
       "      <td>yes</td>\n",
       "      <td>yes</td>\n",
       "      <td>yes</td>\n",
       "      <td>yes</td>\n",
       "      <td>yes</td>\n",
       "      <td>3</td>\n",
       "      <td>2</td>\n",
       "      <td>2</td>\n",
       "      <td>1</td>\n",
       "      <td>1</td>\n",
       "      <td>5</td>\n",
       "      <td>2</td>\n",
       "      <td>15</td>\n",
       "      <td>14</td>\n",
       "      <td>15</td>\n",
       "    </tr>\n",
       "    <tr>\n",
       "      <th>4</th>\n",
       "      <td>GP</td>\n",
       "      <td>F</td>\n",
       "      <td>16</td>\n",
       "      <td>U</td>\n",
       "      <td>GT3</td>\n",
       "      <td>T</td>\n",
       "      <td>3</td>\n",
       "      <td>3</td>\n",
       "      <td>other</td>\n",
       "      <td>other</td>\n",
       "      <td>home</td>\n",
       "      <td>father</td>\n",
       "      <td>1</td>\n",
       "      <td>2</td>\n",
       "      <td>0</td>\n",
       "      <td>no</td>\n",
       "      <td>yes</td>\n",
       "      <td>yes</td>\n",
       "      <td>no</td>\n",
       "      <td>yes</td>\n",
       "      <td>yes</td>\n",
       "      <td>no</td>\n",
       "      <td>no</td>\n",
       "      <td>4</td>\n",
       "      <td>3</td>\n",
       "      <td>2</td>\n",
       "      <td>1</td>\n",
       "      <td>2</td>\n",
       "      <td>5</td>\n",
       "      <td>4</td>\n",
       "      <td>6</td>\n",
       "      <td>10</td>\n",
       "      <td>10</td>\n",
       "    </tr>\n",
       "  </tbody>\n",
       "</table>\n",
       "</div>"
      ],
      "text/plain": [
       "  school sex  age address famsize Pstatus  Medu  Fedu     Mjob      Fjob  \\\n",
       "0     GP   F   18       U     GT3       A     4     4  at_home   teacher   \n",
       "1     GP   F   17       U     GT3       T     1     1  at_home     other   \n",
       "2     GP   F   15       U     LE3       T     1     1  at_home     other   \n",
       "3     GP   F   15       U     GT3       T     4     2   health  services   \n",
       "4     GP   F   16       U     GT3       T     3     3    other     other   \n",
       "\n",
       "   reason guardian  traveltime  studytime  failures schoolsup famsup paid  \\\n",
       "0  course   mother           2          2         0       yes     no   no   \n",
       "1  course   father           1          2         0        no    yes   no   \n",
       "2   other   mother           1          2         3       yes     no  yes   \n",
       "3    home   mother           1          3         0        no    yes  yes   \n",
       "4    home   father           1          2         0        no    yes  yes   \n",
       "\n",
       "  activities nursery higher internet romantic  famrel  freetime  goout  Dalc  \\\n",
       "0         no     yes    yes       no       no       4         3      4     1   \n",
       "1         no      no    yes      yes       no       5         3      3     1   \n",
       "2         no     yes    yes      yes       no       4         3      2     2   \n",
       "3        yes     yes    yes      yes      yes       3         2      2     1   \n",
       "4         no     yes    yes       no       no       4         3      2     1   \n",
       "\n",
       "   Walc  health  absences  G1  G2  G3  \n",
       "0     1       3         6   5   6   6  \n",
       "1     1       3         4   5   5   6  \n",
       "2     3       3        10   7   8  10  \n",
       "3     1       5         2  15  14  15  \n",
       "4     2       5         4   6  10  10  "
      ]
     },
     "execution_count": 6,
     "metadata": {},
     "output_type": "execute_result"
    }
   ],
   "source": [
    "# Read in the CSV File as a Dataframe\n",
    "student_grade_prediction_df = pd.read_csv(student_grade_prediction_csv_file_path)\n",
    "\n",
    "student_grade_prediction_df.head()"
   ]
  },
  {
   "cell_type": "markdown",
   "metadata": {},
   "source": [
    "# ========================================"
   ]
  },
  {
   "cell_type": "markdown",
   "metadata": {},
   "source": [
    "# Step 2 - Check Data for Nulls"
   ]
  },
  {
   "cell_type": "markdown",
   "metadata": {},
   "source": [
    "# ========================================"
   ]
  },
  {
   "cell_type": "code",
   "execution_count": null,
   "metadata": {},
   "outputs": [],
   "source": [
    "# Check the Dataframe for Null Values\n",
    "student_grade_prediction_df_check_nan = student_grade_prediction_df.isnull().values.any()\n",
    "\n",
    "if student_grade_prediction_df_check_nan == True:\n",
    "    print(\"The Dataframe has Null Values!!!!!\")\n",
    "#     student_grade_prediction_df_check_nan = student_grade_prediction_df['API'].isnull().sum()\n",
    "#     print(f\"There are {heart_df_count_nan} null values in the dataframe.\")"
   ]
  },
  {
   "cell_type": "markdown",
   "metadata": {},
   "source": [
    "# ========================================"
   ]
  },
  {
   "cell_type": "markdown",
   "metadata": {},
   "source": [
    "# Step 3 - Evaluate the Column Headers and Their Data Types"
   ]
  },
  {
   "cell_type": "markdown",
   "metadata": {},
   "source": [
    "# ========================================"
   ]
  },
  {
   "cell_type": "code",
   "execution_count": null,
   "metadata": {
    "scrolled": true
   },
   "outputs": [],
   "source": [
    "# Column Headers\n",
    "\n",
    "student_grade_prediction_df.keys()"
   ]
  },
  {
   "cell_type": "code",
   "execution_count": null,
   "metadata": {},
   "outputs": [],
   "source": [
    "# Column Headers and Their Data Types\n",
    "\n",
    "# Reference:\n",
    "#     - Convert a Series to a Dataframe\n",
    "#         - https://pandas.pydata.org/docs/reference/api/pandas.Series.to_frame.html\n",
    "\n",
    "student_grade_prediction_dtypes_df = student_grade_prediction_df.dtypes.to_frame().reset_index()\n",
    "student_grade_prediction_dtypes_df = student_grade_prediction_dtypes_df.rename(columns={\"index\": \"Column_Headers\", 0: \"dtype\"})\n",
    "\n",
    "print(type(student_grade_prediction_dtypes_df))\n",
    "student_grade_prediction_dtypes_df"
   ]
  },
  {
   "cell_type": "markdown",
   "metadata": {},
   "source": [
    "## Step 3.1 Column Header Details"
   ]
  },
  {
   "cell_type": "markdown",
   "metadata": {},
   "source": [
    "school - binary: 'GP' - Gabriel Pereira or 'MS' - Mousinho da Silveira\n",
    "\n",
    "sex - binary: 'F' - female or 'M' - male\n",
    "\n",
    "age - numeric: from 15 to 22\n",
    "\n",
    "address - student's home address type (binary: 'U' - urban or 'R' - rural)\n",
    "\n",
    "famsize - binary: 'LE3' - less or equal to 3 or 'GT3' - greater than 3\n",
    "\n",
    "Pstatus - parent's cohabitation status (binary: 'T' - living together or 'A' - apart)\n",
    "\n",
    "Medu - mother's education (numeric: 0 - none, 1 - primary education (4th grade), 2 â€“ 5th to 9th grade, 3 â€“ secondary\n",
    "\n",
    "Fedu - father's education (numeric: 0 - none, 1 - primary education (4th grade), 2 â€“ 5th to 9th grade, 3 â€“ secondary\n",
    "\n",
    "Mjob - mother's job (nominal: 'teacher', 'health' care related, civil 'services' (e.g. administrative or police), 'at_home' or\n",
    "\n",
    "Fjob - father's job (nominal: 'teacher', 'health' care related, civil 'services' (e.g. administrative or police), 'at_home' or\n",
    "\n",
    "reason - reason to choose this school (nominal: close to 'home', school 'reputation', 'course' preference or 'other')\n",
    "\n",
    "guardian - student's guardian (nominal: 'mother', 'father' or 'other')\n",
    "\n",
    "traveltime - home to school travel time (numeric: 1 - &lt;15 min., 2 - 15 to 30 min., 3 - 30 min. to 1 hour, or 4 - &gt;1 hour)\n",
    "\n",
    "studytime - weekly study time (numeric: 1 - &lt;2 hours, 2 - 2 to 5 hours, 3 - 5 to 10 hours, or 4 - &gt;10 hours)\n",
    "\n",
    "failures - number of past class failures (numeric: n if 1&lt;=n&lt;3, else 4)\n",
    "\n",
    "schoolsup - extra educational support (binary: yes or no) \n",
    "\n",
    "famsup - family educational support (binary: yes or no)\n",
    "\n",
    "paid - extra paid classes within the course subject (Math or Portuguese) (binary: yes or no)\n",
    "\n",
    "activities - extra-curricular activities (binary: yes or no)\n",
    "\n",
    "nursery - attended nursery school (binary: yes or no)\n",
    "\n",
    "higher - wants to take higher education (binary: yes or no)\n",
    "\n",
    "internet - Internet access at home (binary: yes or no)\n",
    "\n",
    "romantic - with a romantic relationship (binary: yes or no)\n",
    "\n",
    "famrel - quality of family relationships (numeric: from 1 - very bad to 5 - excellent)\n",
    "\n",
    "freetime - free time after school (numeric: from 1 - very low to 5 - very high)\n",
    "\n",
    "goout - going out with friends (numeric: from 1 - very low to 5 - very high)\n",
    "\n",
    "Dalc - workday alcohol consumption (numeric: from 1 - very low to 5 - very high)\n",
    "\n",
    "Walc - weekend alcohol consumption (numeric: from 1 - very low to 5 - very high)\n",
    "\n",
    "health - current health status (numeric: from 1 - very bad to 5 - very good)\n",
    "\n",
    "absences - number of school absences (numeric: from 0 to 93)\n",
    "\n",
    "G1 - first period grade (numeric: from 0 to 20)\n",
    "\n",
    "G2 - second period grade (numeric: from 0 to 20)\n",
    "\n",
    "G3 - final grade (numeric: from 0 to 20)"
   ]
  },
  {
   "cell_type": "markdown",
   "metadata": {},
   "source": [
    "# ========================================"
   ]
  },
  {
   "cell_type": "markdown",
   "metadata": {},
   "source": [
    "# Step 4 - Check the Statistics of the Data"
   ]
  },
  {
   "cell_type": "markdown",
   "metadata": {},
   "source": [
    "# ========================================"
   ]
  },
  {
   "cell_type": "markdown",
   "metadata": {},
   "source": [
    "# Step 4.1 - Intial Statistics Using Pandas Describe Function"
   ]
  },
  {
   "cell_type": "code",
   "execution_count": null,
   "metadata": {
    "scrolled": false
   },
   "outputs": [],
   "source": [
    "# Reference:\n",
    "#     - Pandas Describe\n",
    "#         - https://pandas.pydata.org/pandas-docs/stable/reference/api/pandas.DataFrame.describe.html\n",
    "\n",
    "# percentile list\n",
    "perc =[.20, .40, .60, .80]\n",
    "\n",
    "# list of dtypes to include\n",
    "include =['object', 'float', 'int']\n",
    "\n",
    "student_grade_prediction_df_dscrb = student_grade_prediction_df.describe(percentiles = perc, include = include)\n",
    "\n",
    "student_grade_prediction_df_dscrb"
   ]
  },
  {
   "cell_type": "markdown",
   "metadata": {},
   "source": [
    "# Step 4.2 - Intial Statistics Using Pandas Describe Function"
   ]
  },
  {
   "cell_type": "code",
   "execution_count": null,
   "metadata": {},
   "outputs": [],
   "source": [
    "student_grade_prediction_df.value_counts(student_grade_prediction_df.age)"
   ]
  },
  {
   "cell_type": "markdown",
   "metadata": {},
   "source": [
    "# Step 4.1.1 - Observations from the intial Statistics"
   ]
  },
  {
   "cell_type": "raw",
   "metadata": {},
   "source": [
    "1) Schools:\n",
    "    - 88.3544304% from 'GP' - Gabriel Pereira\n",
    "2) Sex:\n",
    "    - 52.6582278% are Female\n",
    "3) Age:\n",
    "    - \n",
    "4) Address:\n",
    "    - 77.7215190% are 'U' - Urban\n",
    "5) Family Size (famsize):\n",
    "    - 71.1392405% are 'GT3' - greater than 3\n",
    "6) Parent's cohabitation status (Pstatus):\n",
    "    - 89.6202532% are 'T' - living together\n",
    "7) Medu:\n",
    "    - \n",
    "8) Fedu:\n",
    "    - \n",
    "9) Mother's Job (Mjob):\n",
    "    - 35.6962025% are Other\n",
    "10) Father's Job (Fjob):\n",
    "    - 54.9367089% are Other\n",
    "11) Reason to choose this school (reason) (nominal: close to 'home', school 'reputation', 'course' preference or 'other'):\n",
    "    - 36.7088607% b/c of course\n",
    "12) Student's guardian (nominal: 'mother', 'father' or 'other') (guardian)\n",
    "    - 69.1139241% of the guardian's are mothers\n",
    "13) Traveltime\n",
    "14) Student Time\n",
    "15) Failures\n",
    "16) Extra Educational Support (schoolsup) (binary: yes or no):\n",
    "    - 87.0886076% did NOT recieve Extra Educational Support\n",
    "17) Family Educational Support (famsup) (binary: yes or no): \n",
    "    - 61.265822% recieved Family Educational Support\n",
    "18) Extra Paid Classes within the Course Subjects Math or Portuguese (paid) (binary: yes or no):\n",
    "    - 54.1772152% did NOT recieved Extra Paid Classes\n",
    "19) Extra-Curricular Activities (activities) (binary: yes or no):\n",
    "    - 50.8886076% Extra-Curricular Activities\n",
    "20) Attended Nursery School (nursery) (binary: yes or no)\n",
    "    - 79.4936709% Attended Nursery School\n",
    "21) Wants to Take Higher Education (higher) (binary: yes or no): \n",
    "    - 94.9367089% Wants to Take Higher Education\n",
    "22) Internet Access at Home (internet) (binary: yes or no):\n",
    "    - 83.2911392% have Internet Access at Home\n",
    "23) With a Romantic Relationship (romantic) (binary: yes or no):\n",
    "    - 66.5822785% were WITHOUT a Romantic Relationship\n",
    "24) famrel:\n",
    "25) freetime:\n",
    "26) goout:\n",
    "27) Dalc:\n",
    "28) Walc:\n",
    "29) health:\n",
    "30) absences:\n",
    "31) G1:\n",
    "32) G2:\n",
    "33) G3:"
   ]
  },
  {
   "cell_type": "code",
   "execution_count": null,
   "metadata": {},
   "outputs": [],
   "source": [
    "\n",
    "\n",
    "for dtype_indx in student_grade_prediction_dtypes_df.index:\n",
    "#     print(dtype_indx)\n",
    "\n",
    "    if student_grade_prediction_dtypes_df[\"dtype\"][dtype_indx] == \"int64\":\n",
    "#         print(student_grade_prediction_dtypes_df[\"Column_Headers\"][dtype_indx])\n",
    "#         print(student_grade_prediction_dtypes_df[\"dtype\"][dtype_indx])\n",
    "\n",
    "        clmn_hdrs_nm = student_grade_prediction_dtypes_df[\"Column_Headers\"][dtype_indx]\n",
    "\n",
    "        print(f\"{clmn_hdrs_nm} Min: {min(student_grade_prediction_df[clmn_hdrs_nm])}\")\n",
    "        print(f\"{clmn_hdrs_nm} Max: {max(student_grade_prediction_df[clmn_hdrs_nm])}\")\n",
    "        print(f\"{clmn_hdrs_nm} Mean: {statistics.mean(student_grade_prediction_df[clmn_hdrs_nm])}\")\n",
    "        print(f\"{clmn_hdrs_nm} Median: {statistics.median(student_grade_prediction_df[clmn_hdrs_nm])}\")\n",
    "        print(f\"{clmn_hdrs_nm} Mode: {statistics.mode(student_grade_prediction_df[clmn_hdrs_nm])}\")\n",
    "        print(f\"{clmn_hdrs_nm} Variance: {statistics.variance(student_grade_prediction_df[clmn_hdrs_nm])}\")\n",
    "        \n",
    "        zscore_ndarray =  scipy.stats.zscore(student_grade_prediction_df[clmn_hdrs_nm])\n",
    "        zscore_df = pd.DataFrame(zscore_ndarray)\n",
    "#         print(f\"{clmn_hdrs_nm} Z-Score: {type(scipy.stats.zscore(student_grade_prediction_df[clmn_hdrs_nm]))}\")\n",
    "\n",
    "#         ax = student_grade_prediction_df.plot(x = clmn_hdrs_nm, y = \"\"\n",
    "\n",
    "        print(\"----------------------------------------------------\")"
   ]
  },
  {
   "cell_type": "code",
   "execution_count": null,
   "metadata": {},
   "outputs": [],
   "source": [
    "zscore_df.groupby([0]).count()"
   ]
  },
  {
   "cell_type": "code",
   "execution_count": null,
   "metadata": {},
   "outputs": [],
   "source": [
    "print(f\"Age Median: {statistics.median(student_grade_prediction_df['age'])}\")\n",
    "print(f\"Age Mode: {statistics.mode(student_grade_prediction_df['age'])}\")\n",
    "print(\"----------------------------------------------------\")\n",
    "print(f\"Age Median: {statistics.median(student_grade_prediction_df['age'])}\")\n",
    "print(f\"Age Mode: {statistics.mode(student_grade_prediction_df['age'])}\")\n",
    "print(\"----------------------------------------------------\")\n",
    "print(f\"Age Median: {statistics.median(student_grade_prediction_df['age'])}\")\n",
    "print(f\"Age Mode: {statistics.mode(student_grade_prediction_df['age'])}\")\n",
    "print(\"----------------------------------------------------\")\n",
    "print(f\"Age Median: {statistics.median(student_grade_prediction_df['age'])}\")\n",
    "print(f\"Age Mode: {statistics.mode(student_grade_prediction_df['age'])}\")\n",
    "print(\"----------------------------------------------------\")"
   ]
  },
  {
   "cell_type": "markdown",
   "metadata": {},
   "source": [
    "# ========================================"
   ]
  },
  {
   "cell_type": "markdown",
   "metadata": {},
   "source": [
    "# Step 3 - Manipulate the Data for Plots"
   ]
  },
  {
   "cell_type": "markdown",
   "metadata": {},
   "source": [
    "# ========================================"
   ]
  },
  {
   "cell_type": "code",
   "execution_count": null,
   "metadata": {},
   "outputs": [],
   "source": []
  },
  {
   "cell_type": "markdown",
   "metadata": {},
   "source": [
    "# ========================================"
   ]
  },
  {
   "cell_type": "markdown",
   "metadata": {},
   "source": [
    "# Step 3 - Plots the Data"
   ]
  },
  {
   "cell_type": "markdown",
   "metadata": {},
   "source": [
    "# ========================================"
   ]
  },
  {
   "cell_type": "markdown",
   "metadata": {},
   "source": [
    "## Step 3.1 - Quick Scatter Plots and Histograms "
   ]
  },
  {
   "cell_type": "code",
   "execution_count": null,
   "metadata": {},
   "outputs": [],
   "source": [
    "# Reference: \n",
    "#     - Seaborn.pairplot()\n",
    "#         - https://seaborn.pydata.org/generated/seaborn.pairplot.html\n",
    "\n",
    "sns.pairplot(data = student_grade_prediction_df)"
   ]
  },
  {
   "cell_type": "markdown",
   "metadata": {},
   "source": [
    "## Step 3.2 - Boxplots"
   ]
  },
  {
   "cell_type": "raw",
   "metadata": {},
   "source": [
    "Notes:\n",
    "    - It doesn't make sense to look at most of this data in a boxplot b/c it isn't continuous data"
   ]
  },
  {
   "cell_type": "markdown",
   "metadata": {},
   "source": [
    "### Step 3.2.1 - Seaborn Boxplots"
   ]
  },
  {
   "cell_type": "code",
   "execution_count": null,
   "metadata": {
    "scrolled": true
   },
   "outputs": [],
   "source": [
    "# References:\n",
    "#     - Seaborn Boxplot\n",
    "#         - https://seaborn.pydata.org/generated/seaborn.boxplot.html\n",
    "#     - Use swarmplot() to show datapoints on top of the boxes\n",
    "#         - https://seaborn.pydata.org/generated/seaborn.swarmplot.html#seaborn.swarmplot\n",
    "\n",
    "\n",
    "for indx in student_grade_prediction_dtypes_df.index:\n",
    "#     print(indx)\n",
    "    if student_grade_prediction_dtypes_df[\"dtype\"][indx] == \"int64\":\n",
    "        clmn_hdr = student_grade_prediction_dtypes_df['Column_Headers'][indx]\n",
    "        \n",
    "        print(f\"{clmn_hdr}\")\n",
    "\n",
    "\n",
    "        sns.set(style=\"whitegrid\")\n",
    "        tips = sns.load_dataset(\"tips\")\n",
    "\n",
    "        ax = sns.boxplot(data=student_grade_prediction_df[clmn_hdr], \n",
    "                         showfliers = False, \n",
    "                         showmeans = True)\n",
    "\n",
    "        ax = sns.swarmplot(data=student_grade_prediction_df[clmn_hdr], \n",
    "                           color=\".25\")\n",
    "\n",
    "        plt.show()"
   ]
  },
  {
   "cell_type": "markdown",
   "metadata": {},
   "source": [
    "### Step 3.2.2 - Matplotlib Boxplots"
   ]
  },
  {
   "cell_type": "code",
   "execution_count": null,
   "metadata": {
    "scrolled": true
   },
   "outputs": [],
   "source": [
    "for indx in student_grade_prediction_dtypes_df.index:\n",
    "#     print(indx)\n",
    "    if student_grade_prediction_dtypes_df[\"dtype\"][indx] == \"int64\":\n",
    "        clmn_hdr = student_grade_prediction_dtypes_df['Column_Headers'][indx]\n",
    "        \n",
    "        print(f\"{clmn_hdr}\")\n",
    "\n",
    "        plt.figure(figsize = (10,5))\n",
    "        plt.title(clmn_hdr)\n",
    "        plt.ylabel(clmn_hdr)\n",
    "        plt.boxplot(student_grade_prediction_df[clmn_hdr], showmeans = True)\n",
    "        plt.show()"
   ]
  },
  {
   "cell_type": "markdown",
   "metadata": {},
   "source": [
    "## Step 3.3 - Histograms"
   ]
  },
  {
   "cell_type": "code",
   "execution_count": null,
   "metadata": {},
   "outputs": [],
   "source": [
    "# References:\n",
    "#     - Setting Plot Background Color in Seaborn\n",
    "#         - https://stackoverflow.com/questions/25238442/setting-plot-background-colour-in-seaborn\n",
    "#     - Title a Seaborn Plot \n",
    "#         - https://www.statology.org/seaborn-title/\n",
    "#     - numpy.mean()\n",
    "#         - https://numpy.org/doc/stable/reference/generated/numpy.mean.html\n",
    "#     - Add Vertical Lines to a Distribution Plot (sns.distplot) in Matplotlib\n",
    "#         - https://www.tutorialspoint.com/how-to-add-vertical-lines-to-a-distribution-plot-sns-distplot-in-matplotlib\n",
    "\n",
    "\n",
    "for indx in student_grade_prediction_dtypes_df.index:\n",
    "#     print(indx)\n",
    "    if student_grade_prediction_dtypes_df[\"dtype\"][indx] == \"int64\":\n",
    "        clmn_hdr = student_grade_prediction_dtypes_df['Column_Headers'][indx]\n",
    "\n",
    "        clmn_hdr_data = student_grade_prediction_df[clmn_hdr]\n",
    "        \n",
    "        sns.set_style(\"ticks\")\n",
    "#         sns.set(rc={'axes.facecolor':'black', 'figure.facecolor':'white'})\n",
    "\n",
    "#         plt.plot([2.8, 2.8], [0, max(student_grade_prediction_df[clmn_hdr])])\n",
    "        sns.histplot(data = clmn_hdr_data, \n",
    "                     facecolor='Blue').set(title=clmn_hdr)\n",
    "\n",
    "        plt.axvline(statistics.mean(clmn_hdr_data), color='red')\n",
    "        plt.axvline(statistics.median(clmn_hdr_data), color='yellow')\n",
    "        plt.axvline(statistics.mode(clmn_hdr_data), color='orange')\n",
    "        \n",
    "    \n",
    "#         ax.set_facecolor(\"g\")\n",
    "        plt.show()"
   ]
  },
  {
   "cell_type": "code",
   "execution_count": null,
   "metadata": {},
   "outputs": [],
   "source": [
    "heart_seaborn = sns.load_dataset(\"tips\")\n",
    "heart_seaborn.head()\n",
    "\n",
    "sns.pairplot(data = heart_seaborn, diag_kind = \"kde\", kind = \"reg\")"
   ]
  },
  {
   "cell_type": "code",
   "execution_count": null,
   "metadata": {},
   "outputs": [],
   "source": [
    "sns.set_style(\"darkgrid\")\n",
    "\n",
    "# Create the Default Pairplot\n",
    "sns.pairplot(data = heart_df, hue = \"sex\", kind = \"reg\", vars = [\"age\", \"thalachh\"])\n",
    "plt.show()"
   ]
  },
  {
   "cell_type": "markdown",
   "metadata": {},
   "source": [
    "# ========================================"
   ]
  },
  {
   "cell_type": "markdown",
   "metadata": {},
   "source": [
    "# Step ? - Create Tables for a Database"
   ]
  },
  {
   "cell_type": "markdown",
   "metadata": {},
   "source": [
    "# ========================================"
   ]
  },
  {
   "cell_type": "markdown",
   "metadata": {},
   "source": [
    "## Step ?.1 - Unique Values from Each Column "
   ]
  },
  {
   "cell_type": "code",
   "execution_count": 34,
   "metadata": {
    "scrolled": true
   },
   "outputs": [
    {
     "name": "stdout",
     "output_type": "stream",
     "text": [
      "school\n",
      "<class 'numpy.ndarray'>\n",
      "<class 'list'>\n",
      "<class 'pandas.core.frame.DataFrame'>\n",
      "----------------------------------------------------\n",
      "sex\n",
      "<class 'numpy.ndarray'>\n",
      "<class 'list'>\n",
      "<class 'pandas.core.frame.DataFrame'>\n",
      "----------------------------------------------------\n",
      "age\n",
      "<class 'numpy.ndarray'>\n",
      "<class 'list'>\n",
      "<class 'pandas.core.frame.DataFrame'>\n",
      "----------------------------------------------------\n",
      "address\n",
      "<class 'numpy.ndarray'>\n",
      "<class 'list'>\n",
      "<class 'pandas.core.frame.DataFrame'>\n",
      "----------------------------------------------------\n",
      "famsize\n",
      "<class 'numpy.ndarray'>\n",
      "<class 'list'>\n",
      "<class 'pandas.core.frame.DataFrame'>\n",
      "----------------------------------------------------\n",
      "Pstatus\n",
      "<class 'numpy.ndarray'>\n",
      "<class 'list'>\n",
      "<class 'pandas.core.frame.DataFrame'>\n",
      "----------------------------------------------------\n",
      "Medu\n",
      "<class 'numpy.ndarray'>\n",
      "<class 'list'>\n",
      "<class 'pandas.core.frame.DataFrame'>\n",
      "----------------------------------------------------\n",
      "Fedu\n",
      "<class 'numpy.ndarray'>\n",
      "<class 'list'>\n",
      "<class 'pandas.core.frame.DataFrame'>\n",
      "----------------------------------------------------\n",
      "Mjob\n",
      "<class 'numpy.ndarray'>\n",
      "<class 'list'>\n",
      "<class 'pandas.core.frame.DataFrame'>\n",
      "----------------------------------------------------\n",
      "Fjob\n",
      "<class 'numpy.ndarray'>\n",
      "<class 'list'>\n",
      "<class 'pandas.core.frame.DataFrame'>\n",
      "----------------------------------------------------\n",
      "reason\n",
      "<class 'numpy.ndarray'>\n",
      "<class 'list'>\n",
      "<class 'pandas.core.frame.DataFrame'>\n",
      "----------------------------------------------------\n",
      "guardian\n",
      "<class 'numpy.ndarray'>\n",
      "<class 'list'>\n",
      "<class 'pandas.core.frame.DataFrame'>\n",
      "----------------------------------------------------\n",
      "traveltime\n",
      "<class 'numpy.ndarray'>\n",
      "<class 'list'>\n",
      "<class 'pandas.core.frame.DataFrame'>\n",
      "----------------------------------------------------\n",
      "studytime\n",
      "<class 'numpy.ndarray'>\n",
      "<class 'list'>\n",
      "<class 'pandas.core.frame.DataFrame'>\n",
      "----------------------------------------------------\n",
      "failures\n",
      "<class 'numpy.ndarray'>\n",
      "<class 'list'>\n",
      "<class 'pandas.core.frame.DataFrame'>\n",
      "----------------------------------------------------\n",
      "schoolsup\n",
      "<class 'numpy.ndarray'>\n",
      "<class 'list'>\n",
      "<class 'pandas.core.frame.DataFrame'>\n",
      "----------------------------------------------------\n",
      "famsup\n",
      "<class 'numpy.ndarray'>\n",
      "<class 'list'>\n",
      "<class 'pandas.core.frame.DataFrame'>\n",
      "----------------------------------------------------\n",
      "paid\n",
      "<class 'numpy.ndarray'>\n",
      "<class 'list'>\n",
      "<class 'pandas.core.frame.DataFrame'>\n",
      "----------------------------------------------------\n",
      "activities\n",
      "<class 'numpy.ndarray'>\n",
      "<class 'list'>\n",
      "<class 'pandas.core.frame.DataFrame'>\n",
      "----------------------------------------------------\n",
      "nursery\n",
      "<class 'numpy.ndarray'>\n",
      "<class 'list'>\n",
      "<class 'pandas.core.frame.DataFrame'>\n",
      "----------------------------------------------------\n",
      "higher\n",
      "<class 'numpy.ndarray'>\n",
      "<class 'list'>\n",
      "<class 'pandas.core.frame.DataFrame'>\n",
      "----------------------------------------------------\n",
      "internet\n",
      "<class 'numpy.ndarray'>\n",
      "<class 'list'>\n",
      "<class 'pandas.core.frame.DataFrame'>\n",
      "----------------------------------------------------\n",
      "romantic\n",
      "<class 'numpy.ndarray'>\n",
      "<class 'list'>\n",
      "<class 'pandas.core.frame.DataFrame'>\n",
      "----------------------------------------------------\n",
      "famrel\n",
      "<class 'numpy.ndarray'>\n",
      "<class 'list'>\n",
      "<class 'pandas.core.frame.DataFrame'>\n",
      "----------------------------------------------------\n",
      "freetime\n",
      "<class 'numpy.ndarray'>\n",
      "<class 'list'>\n",
      "<class 'pandas.core.frame.DataFrame'>\n",
      "----------------------------------------------------\n",
      "goout\n",
      "<class 'numpy.ndarray'>\n",
      "<class 'list'>\n",
      "<class 'pandas.core.frame.DataFrame'>\n",
      "----------------------------------------------------\n",
      "Dalc\n",
      "<class 'numpy.ndarray'>\n",
      "<class 'list'>\n",
      "<class 'pandas.core.frame.DataFrame'>\n",
      "----------------------------------------------------\n",
      "Walc\n",
      "<class 'numpy.ndarray'>\n",
      "<class 'list'>\n",
      "<class 'pandas.core.frame.DataFrame'>\n",
      "----------------------------------------------------\n",
      "health\n",
      "<class 'numpy.ndarray'>\n",
      "<class 'list'>\n",
      "<class 'pandas.core.frame.DataFrame'>\n",
      "----------------------------------------------------\n",
      "absences\n",
      "<class 'numpy.ndarray'>\n",
      "<class 'list'>\n",
      "<class 'pandas.core.frame.DataFrame'>\n",
      "----------------------------------------------------\n",
      "G1\n",
      "<class 'numpy.ndarray'>\n",
      "<class 'list'>\n",
      "<class 'pandas.core.frame.DataFrame'>\n",
      "----------------------------------------------------\n",
      "G2\n",
      "<class 'numpy.ndarray'>\n",
      "<class 'list'>\n",
      "<class 'pandas.core.frame.DataFrame'>\n",
      "----------------------------------------------------\n",
      "G3\n",
      "<class 'numpy.ndarray'>\n",
      "<class 'list'>\n",
      "<class 'pandas.core.frame.DataFrame'>\n",
      "----------------------------------------------------\n"
     ]
    }
   ],
   "source": [
    "empty_dic = {}\n",
    "# result = pd.DataFrame()\n",
    "\n",
    "for df_header in student_grade_prediction_df.head():\n",
    "    print(df_header)\n",
    "    \n",
    "#     empty_dic[df_header] = pd.DataFrame(columns = [\"values\"])\n",
    "#     print(empty_dic[df_header])\n",
    "    \n",
    "    clmn_unqe_rslt = student_grade_prediction_df[df_header].unique()\n",
    "    print(type(clmn_unqe_rslt))\n",
    "    clmn_unqe_rslt_tolst = clmn_unqe_rslt.tolist()\n",
    "    print(type(clmn_unqe_rslt_tolst))\n",
    "    clmn_unqe_rslt_tolst_df = pd.DataFrame(clmn_unqe_rslt_tolst)\n",
    "    print(type(clmn_unqe_rslt_tolst_df))\n",
    "    \n",
    "    empty_dic[df_header] = clmn_unqe_rslt_tolst_df\n",
    "    \n",
    "#     a_series = pd.Series(clmn_unqe_rslt)\n",
    "#     print(type(clmn_unqe_rslt))\n",
    "#     print(clmn_unqe_rslt_tolst)\n",
    "    \n",
    "#     empty_dic[df_header].append(a_series, ignore_index = True)\n",
    "#     print(empty_dic[df_header])\n",
    "    print(\"----------------------------------------------------\")"
   ]
  },
  {
   "cell_type": "code",
   "execution_count": 36,
   "metadata": {
    "scrolled": true
   },
   "outputs": [
    {
     "data": {
      "text/plain": [
       "{'school':     0\n",
       " 0  GP\n",
       " 1  MS,\n",
       " 'sex':    0\n",
       " 0  F\n",
       " 1  M,\n",
       " 'age':     0\n",
       " 0  18\n",
       " 1  17\n",
       " 2  15\n",
       " 3  16\n",
       " 4  19\n",
       " 5  22\n",
       " 6  20\n",
       " 7  21,\n",
       " 'address':    0\n",
       " 0  U\n",
       " 1  R,\n",
       " 'famsize':      0\n",
       " 0  GT3\n",
       " 1  LE3,\n",
       " 'Pstatus':    0\n",
       " 0  A\n",
       " 1  T,\n",
       " 'Medu':    0\n",
       " 0  4\n",
       " 1  1\n",
       " 2  3\n",
       " 3  2\n",
       " 4  0,\n",
       " 'Fedu':    0\n",
       " 0  4\n",
       " 1  1\n",
       " 2  2\n",
       " 3  3\n",
       " 4  0,\n",
       " 'Mjob':           0\n",
       " 0   at_home\n",
       " 1    health\n",
       " 2     other\n",
       " 3  services\n",
       " 4   teacher,\n",
       " 'Fjob':           0\n",
       " 0   teacher\n",
       " 1     other\n",
       " 2  services\n",
       " 3    health\n",
       " 4   at_home,\n",
       " 'reason':             0\n",
       " 0      course\n",
       " 1       other\n",
       " 2        home\n",
       " 3  reputation,\n",
       " 'guardian':         0\n",
       " 0  mother\n",
       " 1  father\n",
       " 2   other,\n",
       " 'traveltime':    0\n",
       " 0  2\n",
       " 1  1\n",
       " 2  3\n",
       " 3  4,\n",
       " 'studytime':    0\n",
       " 0  2\n",
       " 1  3\n",
       " 2  1\n",
       " 3  4,\n",
       " 'failures':    0\n",
       " 0  0\n",
       " 1  3\n",
       " 2  2\n",
       " 3  1,\n",
       " 'schoolsup':      0\n",
       " 0  yes\n",
       " 1   no,\n",
       " 'famsup':      0\n",
       " 0   no\n",
       " 1  yes,\n",
       " 'paid':      0\n",
       " 0   no\n",
       " 1  yes,\n",
       " 'activities':      0\n",
       " 0   no\n",
       " 1  yes,\n",
       " 'nursery':      0\n",
       " 0  yes\n",
       " 1   no,\n",
       " 'higher':      0\n",
       " 0  yes\n",
       " 1   no,\n",
       " 'internet':      0\n",
       " 0   no\n",
       " 1  yes,\n",
       " 'romantic':      0\n",
       " 0   no\n",
       " 1  yes,\n",
       " 'famrel':    0\n",
       " 0  4\n",
       " 1  5\n",
       " 2  3\n",
       " 3  1\n",
       " 4  2,\n",
       " 'freetime':    0\n",
       " 0  3\n",
       " 1  2\n",
       " 2  4\n",
       " 3  1\n",
       " 4  5,\n",
       " 'goout':    0\n",
       " 0  4\n",
       " 1  3\n",
       " 2  2\n",
       " 3  1\n",
       " 4  5,\n",
       " 'Dalc':    0\n",
       " 0  1\n",
       " 1  2\n",
       " 2  5\n",
       " 3  3\n",
       " 4  4,\n",
       " 'Walc':    0\n",
       " 0  1\n",
       " 1  3\n",
       " 2  2\n",
       " 3  4\n",
       " 4  5,\n",
       " 'health':    0\n",
       " 0  3\n",
       " 1  5\n",
       " 2  1\n",
       " 3  2\n",
       " 4  4,\n",
       " 'absences':      0\n",
       " 0    6\n",
       " 1    4\n",
       " 2   10\n",
       " 3    2\n",
       " 4    0\n",
       " 5   16\n",
       " 6   14\n",
       " 7    7\n",
       " 8    8\n",
       " 9   25\n",
       " 10  12\n",
       " 11  54\n",
       " 12  18\n",
       " 13  26\n",
       " 14  20\n",
       " 15  56\n",
       " 16  24\n",
       " 17  28\n",
       " 18   5\n",
       " 19  13\n",
       " 20  15\n",
       " 21  22\n",
       " 22   3\n",
       " 23  21\n",
       " 24   1\n",
       " 25  75\n",
       " 26  30\n",
       " 27  19\n",
       " 28   9\n",
       " 29  11\n",
       " 30  38\n",
       " 31  40\n",
       " 32  23\n",
       " 33  17,\n",
       " 'G1':      0\n",
       " 0    5\n",
       " 1    7\n",
       " 2   15\n",
       " 3    6\n",
       " 4   12\n",
       " 5   16\n",
       " 6   14\n",
       " 7   10\n",
       " 8   13\n",
       " 9    8\n",
       " 10  11\n",
       " 11   9\n",
       " 12  17\n",
       " 13  19\n",
       " 14  18\n",
       " 15   4\n",
       " 16   3,\n",
       " 'G2':      0\n",
       " 0    6\n",
       " 1    5\n",
       " 2    8\n",
       " 3   14\n",
       " 4   10\n",
       " 5   15\n",
       " 6   12\n",
       " 7   18\n",
       " 8   16\n",
       " 9   13\n",
       " 10   9\n",
       " 11  11\n",
       " 12   7\n",
       " 13  19\n",
       " 14  17\n",
       " 15   4\n",
       " 16   0,\n",
       " 'G3':      0\n",
       " 0    6\n",
       " 1   10\n",
       " 2   15\n",
       " 3   11\n",
       " 4   19\n",
       " 5    9\n",
       " 6   12\n",
       " 7   14\n",
       " 8   16\n",
       " 9    5\n",
       " 10   8\n",
       " 11  17\n",
       " 12  18\n",
       " 13  13\n",
       " 14  20\n",
       " 15   7\n",
       " 16   0\n",
       " 17   4}"
      ]
     },
     "execution_count": 36,
     "metadata": {},
     "output_type": "execute_result"
    }
   ],
   "source": [
    "empty_dic"
   ]
  },
  {
   "cell_type": "code",
   "execution_count": 35,
   "metadata": {},
   "outputs": [
    {
     "name": "stdout",
     "output_type": "stream",
     "text": [
      "    0\n",
      "0  GP\n",
      "1  MS\n",
      "<class 'pandas.core.frame.DataFrame'>\n"
     ]
    }
   ],
   "source": [
    "print(empty_dic[\"school\"])\n",
    "print(type(empty_dic[\"school\"]))\n",
    "\n",
    "# school_df = pd.DataFrame(empty_dic[\"school\"])\n",
    "# school_df"
   ]
  },
  {
   "cell_type": "markdown",
   "metadata": {},
   "source": [
    "# ========================================"
   ]
  },
  {
   "cell_type": "markdown",
   "metadata": {},
   "source": [
    "# Step ? - Create Tables for a Database"
   ]
  },
  {
   "cell_type": "markdown",
   "metadata": {},
   "source": [
    "# ========================================"
   ]
  },
  {
   "cell_type": "markdown",
   "metadata": {},
   "source": [
    "## Step ?.1 - Unique Values from Each Column "
   ]
  }
 ],
 "metadata": {
  "kernelspec": {
   "display_name": "Python 3",
   "language": "python",
   "name": "python3"
  },
  "language_info": {
   "codemirror_mode": {
    "name": "ipython",
    "version": 3
   },
   "file_extension": ".py",
   "mimetype": "text/x-python",
   "name": "python",
   "nbconvert_exporter": "python",
   "pygments_lexer": "ipython3",
   "version": "3.7.6"
  }
 },
 "nbformat": 4,
 "nbformat_minor": 4
}
